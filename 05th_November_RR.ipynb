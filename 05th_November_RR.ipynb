{
 "cells": [
  {
   "cell_type": "markdown",
   "id": "5eac966e-fae6-4c74-9f6b-90cd92376cd7",
   "metadata": {},
   "source": [
    "1:- Find the val%e of T(2) for the rec%rrence relation T(n) = 3T(n-1) + 12n, given that T(0)=5.\r\n",
    "105."
   ]
  },
  {
   "cell_type": "markdown",
   "id": "2e8cdea2-5ad1-4f02-b22a-c98e02dcb560",
   "metadata": {},
   "source": [
    "Given:\n",
    "T(n)=3T(n-1)+12n\n",
    "T(0)=5\n",
    "\n",
    "First Calculation T(1):\n",
    "T(1)=3t(0)+12.1\n",
    "T(1)=3.5+12\n",
    "T(1)=15+12\n",
    "T(1)=27\n",
    "\n",
    "Next, CalculateT(2):\n",
    "T(2)=3T(1)+12.2\n",
    "T(2)=3*27+24\n",
    "T(2)=105  \n",
    "\n",
    "So, the value of T(2) is 105."
   ]
  },
  {
   "cell_type": "markdown",
   "id": "1d15ae29-8f31-42d4-a349-b0a63bf2545e",
   "metadata": {},
   "source": [
    "2. Given a recrrence relation, solve it using the substitution method:\n",
    "a. T(n) = T(n-1) + c\n",
    "b. T(n) = 2T(n/2) + n\n",
    "c. T(n) = 2T(n/2) + c\n",
    "d. T(n) = T(n/2) + c"
   ]
  },
  {
   "cell_type": "markdown",
   "id": "2ec89a52-5a82-4e5f-a69f-bbb9e6f53ff4",
   "metadata": {},
   "source": [
    "a:- T(n) = T(n-1) + c\n",
    "\n",
    "Solution:-\n",
    "T(n)=T(n−1)+c\n",
    "with an initial condition \n",
    "𝑇(0)=𝑇(n-1)+c\n",
    "with an initial condition T(0)=T0\n",
    "Steps to Solve:\n",
    "\n",
    "1:- Substitute recursively:\n",
    "Start from 𝑇(𝑛)T(n) and express it in terms of 𝑇(𝑛−1)T(n−1):\n",
    "T(n)=T(n−1)+c\n",
    "\n",
    "2:- Substitute 𝑇(𝑛−1)T(n−1) in terms of 𝑇(𝑛−2)T(n−2):\n",
    "𝑇(𝑛−1)=𝑇(𝑛−2)+𝑐\n",
    "T(n−1)=T(n−2)+c\n",
    "Therefore:\n",
    "𝑇(𝑛)=(𝑇(𝑛−2)+𝑐)+𝑐=𝑇(𝑛−2)+2𝑐\n",
    "T(n)=(T(n−2)+c)+c=T(n−2)+2c\n",
    "\n",
    "3:- Continue the substitution process:\n",
    "𝑇(𝑛−2)=𝑇(𝑛−3)+𝑐T(n−2)=T(n−3)+c\n",
    "So:\n",
    "𝑇(𝑛)=(𝑇(𝑛−3)+𝑐)+2𝑐=𝑇(𝑛−3)+3𝑐\n",
    "\n",
    "4:-Generalize the pattern:\n",
    "Observing the pattern, we see:\n",
    "𝑇(𝑛)=𝑇(𝑛−𝑘)+𝑘𝑐T(n)=T(n−k)+kc\n",
    "\n",
    "5:- Determine the value when 𝑘=𝑛:\n",
    "To express 𝑇(𝑛)T(n) in terms of the initial condition 𝑇0T0​, set 𝑘=𝑛:\n",
    "𝑇(𝑛)=𝑇(𝑛−𝑛)+𝑛𝑐\n",
    "𝑇(𝑛)=𝑇(0)+𝑛𝑐\n",
    "\n",
    "6:- Substitute the initial condition:\n",
    "Given 𝑇(0)=𝑇0T(0)=T0​:\n",
    "𝑇(𝑛)=𝑇0+𝑛c\n",
    "\n",
    "Final Solution:\n",
    "\n",
    "The closed-form solution for the recurrence relation 𝑇(𝑛)=𝑇(𝑛−1)+𝑐 with the initial \n",
    "condition 𝑇(0)=𝑇0\n",
    "is:𝑇(𝑛)=𝑇0+𝑛𝑐."
   ]
  },
  {
   "cell_type": "markdown",
   "id": "e35318b0-cfdb-4bec-891c-1749e7050fbb",
   "metadata": {},
   "source": [
    "b. T(n) = 2T(n/2) + n\n",
    "Recurrence Relation:\n",
    "𝑇(𝑛)=2𝑇(𝑛2)+𝑛T(n)=2T(2n​)+n\n",
    "\n",
    "Steps to Solve:\n",
    "\n",
    "1:- Substitute recursively:\n",
    "Start by expressing T(n) in terms of 𝑇(𝑛2)T(2n​):\n",
    "T(n)=2T(2n​)+n\n",
    "\n",
    "2:- Substitute 𝑇(𝑛2)T(2n​) in terms of 𝑇(𝑛4)T(4n​):\n",
    "𝑇(𝑛2)=2𝑇(𝑛4)+𝑛2T(2n​)=2T(4n​)+2n\n",
    "​Therefore:\n",
    "𝑇(𝑛)=2(2𝑇(𝑛4)+𝑛2)+𝑛=4T(4n​)+n+n=4T(4n​)+2n\n",
    "\n",
    "3:- Continue the substitution process:\n",
    "T(4n​)=2T(8n​)+4n\n",
    "so,\n",
    "T(n)=4(2T(8n​)+4n​)+2n=8T(8n​)+n+2n=8T(8n​)+3n\n",
    "\n",
    "4:- Generalize the pattern:\n",
    "Observing the pattern, we see:\n",
    "T(n)=2kT(2kn​)+kn\n",
    "\n",
    "5:-Determine the value when 𝑛2𝑘=12kn​=1:\n",
    "This happens when 𝑛=2𝑘n=2k, which means 𝑘=log⁡2𝑛k=log2​n.\n",
    "Substitute 𝑘=log⁡2𝑛k=log2​n:\n",
    "T(n)=2log2​nT(2log2​nn​)+(log2​n)n\n",
    "T(n)=nT(1)+nlog2​n\n",
    "\n",
    "6:- Substitute the base case 𝑇(1)T(1):\n",
    "Typically, 𝑇(1)T(1) is given or can be assumed as a constant 𝑇(1)=𝑐T(1)=c.\n",
    "Assuming 𝑇(1)=𝑐T(1)=c:\n",
    "T(n)=nc+nlog2​n\n",
    "\n",
    "Final Solution:\n",
    "The closed-form solution for the recurrence relation 𝑇(𝑛)=2𝑇(𝑛2)+𝑛T(n)=2T(2n​)+n with the base case:\n",
    "T(1)=c is:\n",
    "T(n)=cn+nlog2​n\n",
    "This solution shows that 𝑇(𝑛)T(n) grows as 𝑛log⁡2𝑛nlog2​n plus a linear term 𝑐𝑛cn."
   ]
  },
  {
   "cell_type": "code",
   "execution_count": null,
   "id": "f99aab71-637f-4327-b9b0-5c06a2e567e2",
   "metadata": {},
   "outputs": [],
   "source": []
  },
  {
   "cell_type": "code",
   "execution_count": null,
   "id": "3a47b966-212b-4442-8516-eede343b11d5",
   "metadata": {},
   "outputs": [],
   "source": []
  }
 ],
 "metadata": {
  "kernelspec": {
   "display_name": "Python 3 (ipykernel)",
   "language": "python",
   "name": "python3"
  },
  "language_info": {
   "codemirror_mode": {
    "name": "ipython",
    "version": 3
   },
   "file_extension": ".py",
   "mimetype": "text/x-python",
   "name": "python",
   "nbconvert_exporter": "python",
   "pygments_lexer": "ipython3",
   "version": "3.11.7"
  }
 },
 "nbformat": 4,
 "nbformat_minor": 5
}
