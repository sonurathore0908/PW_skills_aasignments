{
 "cells": [
  {
   "cell_type": "markdown",
   "id": "f7063f63-62ac-4447-a6f9-77d40601ce3c",
   "metadata": {},
   "source": [
    "Problem 1.Given an array of n numbers, give an algorithm which gives the element appearing maximum\n",
    "number of times?"
   ]
  },
  {
   "cell_type": "code",
   "execution_count": 101,
   "id": "e1136766-e330-427f-a9b0-37ea3d10bd74",
   "metadata": {},
   "outputs": [
    {
     "name": "stdout",
     "output_type": "stream",
     "text": [
      "1 , 2\n",
      "2 , 4\n",
      "6 , 2\n",
      "None\n"
     ]
    }
   ],
   "source": [
    "def check_apearing_maximum_counts(a):\n",
    "    a.sort()\n",
    "    p={}\n",
    "    for i in range(0,len(a)-1):\n",
    "\n",
    "        if a[i] in p:\n",
    "            p[a[i]]+=1\n",
    "        else:\n",
    "            p[a[i]]=1\n",
    "        \n",
    "    for i,j in p.items():\n",
    "        if j>1:\n",
    "            print(i , \",\", j)\n",
    "\n",
    "a=[2,1,3,6,7,1,2,6,2,2,4,0]\n",
    "print(check_apearing_maximum_counts(a))"
   ]
  },
  {
   "cell_type": "markdown",
   "id": "dd114138-9cba-4f38-9004-4639df978162",
   "metadata": {},
   "source": [
    "Problem 2 : We are given a list of n-1 integers and these integers are in the range of 1 to n . There are no\n",
    "duplicates in the list. One of the integers is missing in the list. Give an algorithm to find that element Ex:\n",
    "[1,2,4,6,3,7,8] 5 is the missing num."
   ]
  },
  {
   "cell_type": "code",
   "execution_count": 135,
   "id": "2e8ffc38-5c2d-439f-994a-61e2a83bb1e4",
   "metadata": {},
   "outputs": [
    {
     "name": "stdout",
     "output_type": "stream",
     "text": [
      "3\n",
      "4\n",
      "5\n",
      "6\n",
      "7\n"
     ]
    }
   ],
   "source": [
    "def find_missing(a):\n",
    "    p=0\n",
    "    for i in range(1,a[len(a)-1]+1):\n",
    "        if i!=a[p]:\n",
    "            print(i)\n",
    "        else:\n",
    "            p+=1\n",
    "a=[1,2,8]\n",
    "find_missing(a)\n",
    "        "
   ]
  },
  {
   "cell_type": "markdown",
   "id": "5c192753-47f6-447d-a735-901fa901318f",
   "metadata": {},
   "source": [
    "Problem 3 : Given an array of n positive numbers. All numbers occurs even number of times except 1 which\n",
    "occurs odd number of times. Find that number in O(n) time and O(1) space. Ex: [1,2,3,2,3,1,3]. 3 is repeats odd\n",
    "times."
   ]
  },
  {
   "cell_type": "code",
   "execution_count": 155,
   "id": "3e83f175-0bda-4428-adbf-cab4302b944e",
   "metadata": {},
   "outputs": [
    {
     "name": "stdout",
     "output_type": "stream",
     "text": [
      "3\n"
     ]
    }
   ],
   "source": [
    "def find_odd_occurrence_recursive(arr, index=0, result=0):\n",
    "    # Base case: when the index reaches the length of the array\n",
    "    if index == len(arr):\n",
    "        return result\n",
    "    # Recursive case: XOR the current element with the result and move to the next element\n",
    "    return find_odd_occurrence_recursive(arr, index + 1, result ^ arr[index])\n",
    "\n",
    "arr = [1, 2, 3, 2, 3, 1, 3]\n",
    "print(find_odd_occurrence_recursive(arr))"
   ]
  },
  {
   "cell_type": "markdown",
   "id": "7e390515-00f2-44d0-add9-d54c6df3e322",
   "metadata": {},
   "source": [
    "Problem 4 : Given an array of n elements. Find two elements in the array such that their sum is equal to given\n",
    "element K."
   ]
  },
  {
   "cell_type": "code",
   "execution_count": 220,
   "id": "8a937c37-bf89-41e1-ad0c-a218abd5ccad",
   "metadata": {},
   "outputs": [
    {
     "name": "stdout",
     "output_type": "stream",
     "text": [
      "Sum equal of mentioned  3 2\n",
      "Sum equal of mentioned  2 3\n",
      "Sum equal of mentioned  3 2\n",
      "Sum equal of mentioned  2 3\n"
     ]
    }
   ],
   "source": [
    "def check_sum(arr,k):\n",
    "    j=1\n",
    "    for i in arr:\n",
    "        if arr[i]+arr[j]==k:\n",
    "            print(\"Sum equal of mentioned \",arr[i],arr[j])\n",
    "            j+=1\n",
    "        else:\n",
    "            pass\n",
    "arr = [1, 2, 3, 2, 3, 1, 3]\n",
    "k=5\n",
    "check_sum(arr,k)"
   ]
  },
  {
   "cell_type": "markdown",
   "id": "349545fd-4171-4c31-b248-94330682ed37",
   "metadata": {},
   "source": [
    "Problem 5 : Given an array of both positive and negative numbers, find two numbers such that their sum is\n",
    "closest to 0. Ex: [ 1 ,60 ,-10, 70, -80,85]. Ans : -80,85."
   ]
  },
  {
   "cell_type": "code",
   "execution_count": 41,
   "id": "b4cf3bc9-33ec-4b2b-bd31-89ad2ff9f9a4",
   "metadata": {},
   "outputs": [
    {
     "name": "stdout",
     "output_type": "stream",
     "text": [
      "81 -80\n",
      "1\n"
     ]
    }
   ],
   "source": [
    " def check_sum(arr):\n",
    "    j=1\n",
    "    lst=[0]\n",
    "    dict={}\n",
    "    sum_1=1000000000000000000\n",
    "    for i in range(len(arr)):\n",
    "        if j>=len(arr) :\n",
    "            break\n",
    "        else:\n",
    "            #print(\"len\",len(arr))\n",
    "            #print(i)\n",
    "            #print(j)\n",
    "            sum=abs(arr[i]+arr[j])\n",
    "            if sum<sum_1:\n",
    "                sum_1=sum\n",
    "                dict['i']=arr[i]\n",
    "                dict['j']=arr[j]\n",
    "                dict['sum']=sum_1\n",
    "        \n",
    "            j+=1\n",
    "    print(dict['i'],dict['j'])\n",
    "    print(sum_1)\n",
    "arr = [ 1 ,60 ,-10, 81, -80,81,89]\n",
    "check_sum(arr)"
   ]
  },
  {
   "cell_type": "code",
   "execution_count": null,
   "id": "2b80d92c-0776-432e-821c-9b282a97abca",
   "metadata": {},
   "outputs": [],
   "source": [
    "Problem 6 : Given an array of n elements . Find three elements such that their sum is equal to the given\n",
    "number."
   ]
  },
  {
   "cell_type": "code",
   "execution_count": null,
   "id": "9bdbc144-d7b6-478c-a43d-373d3c79a843",
   "metadata": {},
   "outputs": [],
   "source": [
    "def check_sum(arr,k):\n",
    "    j=1\n",
    "    for i in arr:\n",
    "        if arr[i]+arr[j]==k:\n",
    "            print(\"Sum equal of mentioned \",arr[i],arr[j])\n",
    "            j+=1\n",
    "        else:\n",
    "            pass\n",
    "arr = [1, 2, 3, 2, 3, 1, 3]\n",
    "k=5\n",
    "check_sum(arr,k)"
   ]
  },
  {
   "cell_type": "markdown",
   "id": "a98034bb-ee61-4742-a046-6d8f6a084aa5",
   "metadata": {},
   "source": [
    "Problem 7 : Given an array of n elements . Find three elements i, j, k in the array such that\n",
    "i * i + j * j = k*k."
   ]
  },
  {
   "cell_type": "code",
   "execution_count": 5,
   "id": "32ea9c30-e211-493b-b5e1-e94b15409698",
   "metadata": {},
   "outputs": [
    {
     "name": "stdout",
     "output_type": "stream",
     "text": [
      "Triple 3 4 5\n"
     ]
    }
   ],
   "source": [
    "def find_three_elements(arr):\n",
    "    len_arr=len(arr)\n",
    "\n",
    "\n",
    "    for k in range(2,len(arr)):\n",
    "        i=0\n",
    "        j=k-1\n",
    "        while i<j:\n",
    "            if (arr[i]**2+arr[j]**2==arr[k]**2):\n",
    "                print(\"Triple\",arr[i],arr[j],arr[k])\n",
    "                i+=1\n",
    "                j-=1\n",
    "                \n",
    "            elif (arr[i]**2+arr[j]**2<arr[k]**2): \n",
    "                i+=1\n",
    "            else:\n",
    "                j-=1\n",
    "                \n",
    "arr= [1, 2, 3, 4, 5, 6, 7]\n",
    "find_three_elements(arr)"
   ]
  },
  {
   "cell_type": "code",
   "execution_count": 87,
   "id": "b3cbd677-b0b0-4943-9848-f2308bdf46ff",
   "metadata": {},
   "outputs": [
    {
     "name": "stdout",
     "output_type": "stream",
     "text": [
      "Triplet found: 6, 8, 10\n",
      "Triplet found: 3, 4, 5\n"
     ]
    }
   ],
   "source": [
    "Problem 8 : An element is a majority if it appears more than n/2 times. Give an algorithm takes an array of n\n",
    "element as argument and identifies a majority (if it exists)."
   ]
  }
 ],
 "metadata": {
  "kernelspec": {
   "display_name": "Python 3 (ipykernel)",
   "language": "python",
   "name": "python3"
  },
  "language_info": {
   "codemirror_mode": {
    "name": "ipython",
    "version": 3
   },
   "file_extension": ".py",
   "mimetype": "text/x-python",
   "name": "python",
   "nbconvert_exporter": "python",
   "pygments_lexer": "ipython3",
   "version": "3.11.7"
  }
 },
 "nbformat": 4,
 "nbformat_minor": 5
}
