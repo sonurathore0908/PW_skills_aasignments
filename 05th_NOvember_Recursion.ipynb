{
 "cells": [
  {
   "cell_type": "markdown",
   "id": "bdc1dbb1-18df-4ed6-b87a-512cba70cb32",
   "metadata": {},
   "source": [
    "Recursion?"
   ]
  },
  {
   "cell_type": "markdown",
   "id": "be4badc0-8c0f-4bb0-bb53-cb226fb3b44f",
   "metadata": {},
   "source": [
    "Q.1 Can you explain the logic and working of the Tower of Hanoi algorithm by writing a Java program?\n",
    "How does the recursion work, and how are the movements of disks between rods accomplished?"
   ]
  },
  {
   "cell_type": "code",
   "execution_count": 76,
   "id": "13622491-6604-4394-8a1c-46be20cdbc35",
   "metadata": {},
   "outputs": [
    {
     "name": "stdin",
     "output_type": "stream",
     "text": [
      "Enter the number of disks:  3\n"
     ]
    },
    {
     "name": "stdout",
     "output_type": "stream",
     "text": [
      "Move disk 1 from rod A to rod C.\n",
      "Move disk 2 from rod A to rod B.\n",
      "Move disk 1 from rod C to rod B.\n",
      "Move disk 3 from rod A to rod C.\n",
      "Move disk 1 from rod B to rod A.\n",
      "Move disk 2 from rod B to rod C.\n",
      "Move disk 1 from rod A to rod C.\n"
     ]
    }
   ],
   "source": [
    "# Creating a recursive function \n",
    "def POH(n,sou,aux,tar):\n",
    "    if n==1:\n",
    "        print(\"Disk 1 moved from {} to {}.\".format(sou,tar))\n",
    "        return\n",
    "    # function call itself \n",
    "    POH(n-1,sou,tar,aux)\n",
    "    print(\"Disk \"+str( n) +\" moved from {} to {}.\".format(sou,tar))\n",
    "    POH(n-1,aux,sou,tar)\n",
    "disks = int(input('Enter the number of disks: '))  \n",
    "# We are referring source as A, auxiliary as B, and target as C  \n",
    "tower_of_hanoi(disks, 'A', 'B', 'C')  # Calling the function  "
   ]
  },
  {
   "cell_type": "markdown",
   "id": "c557d3ef-da94-4b54-8be2-9549e78f0947",
   "metadata": {},
   "source": [
    "Q.2 Given two strings word1 and word2, return the minimum number of operations required to convert word1\n",
    "to word2."
   ]
  },
  {
   "cell_type": "code",
   "execution_count": 18,
   "id": "1768c490-dfe5-4e46-a563-fc121b54e51b",
   "metadata": {},
   "outputs": [
    {
     "data": {
      "text/plain": [
       "3"
      ]
     },
     "execution_count": 18,
     "metadata": {},
     "output_type": "execute_result"
    }
   ],
   "source": [
    "def word_1(str1,str2,n,m):\n",
    "    # If first string is empty, the only option is to\n",
    "    # insert all characters of second string into first\n",
    "    if n==0:\n",
    "        return n\n",
    "    # If second string is empty, the only option is to\n",
    "    # remove all characters of first string\n",
    "    if m==0:\n",
    "        return m\n",
    "    # If last characters of two strings are same, nothing\n",
    "    # much to do. Ignore last characters and get count for\n",
    "    # remaining strings.\n",
    "    if str1[n-1]==str2[m-1]:\n",
    "        return word_1(str1,str2,n-1,m-1)\n",
    "    # If last characters are not same, consider all three\n",
    "    # operations on last character of first string, recursively\n",
    "    # compute minimum cost for all three operations and take\n",
    "    # minimum of three values.\n",
    "    return 1+min(word_1(str1,str2,n,m-1),#######insertion\n",
    "                word_1(str1,str2,n-1,m),#########deletion\n",
    "                word_1(str1,str2,n-1,m-1))##########remove\n",
    "# Driver code\n",
    "str1 = \"GEEXSFRGEEKKS\"\n",
    "str2 = \"GEEKSFORGEEKS\"\n",
    "\n",
    "word_1(str1,str2,len(str1),len(str2))\n",
    "    "
   ]
  },
  {
   "cell_type": "markdown",
   "id": "72dcf576-6de5-4d5b-ab45-4865fd56d571",
   "metadata": {},
   "source": [
    "Q. 3 Print the max value of the array [ 13, 1, -3, 22, 5]."
   ]
  },
  {
   "cell_type": "code",
   "execution_count": 24,
   "id": "0061a6fd-c162-469a-8941-b90d2e52d25a",
   "metadata": {},
   "outputs": [
    {
     "data": {
      "text/plain": [
       "22"
      ]
     },
     "execution_count": 24,
     "metadata": {},
     "output_type": "execute_result"
    }
   ],
   "source": [
    "def find_max(arr,n):\n",
    "    if n==1:\n",
    "        return arr[0]\n",
    "    max_value=find_max(arr,n-1)\n",
    "    return max(arr[n-1],max_value)\n",
    "find_max([ 13, 1, -3, 22, 5],len([ 13, 1, -3, 22, 5]))"
   ]
  },
  {
   "cell_type": "markdown",
   "id": "94f78e62-87f7-4bc6-a61a-d4b4efeeb0a3",
   "metadata": {},
   "source": [
    "Q.4 Find the sum of the values of the array [92, 23, 15, -20, 10]."
   ]
  },
  {
   "cell_type": "code",
   "execution_count": 20,
   "id": "da771a90-d812-4c52-abf5-7a0387e8e873",
   "metadata": {},
   "outputs": [
    {
     "data": {
      "text/plain": [
       "120"
      ]
     },
     "execution_count": 20,
     "metadata": {},
     "output_type": "execute_result"
    }
   ],
   "source": [
    "def sum_1(arr,n):\n",
    "    if n==1:\n",
    "        return arr[0]\n",
    "    max_sum=sum_1(arr,n-1)\n",
    "    return arr[n-1]+max_sum\n",
    "sum_1([92, 23, 15, -20, 10],len([92, 23, 15, -20, 10]))\n"
   ]
  },
  {
   "cell_type": "markdown",
   "id": "74b44258-78b5-42c9-a5b2-f7a6992d540c",
   "metadata": {},
   "source": [
    "Q.5 Given a number n. Print if it is an armstrong number or not.An armstrong number is a number if the sum\n",
    "of every digit in that number raised to the power of total digits in that number is equal to the number."
   ]
  },
  {
   "cell_type": "code",
   "execution_count": 40,
   "id": "30626674-9ba4-4407-b324-eae0d6a87fe0",
   "metadata": {},
   "outputs": [
    {
     "name": "stdout",
     "output_type": "stream",
     "text": [
      "True\n"
     ]
    }
   ],
   "source": [
    "def armstrong(arr,n):\n",
    "    p=len(arr)\n",
    "    if n==1:\n",
    "        return arr[0]\n",
    "    arms_sum=armstrong(arr,n-1)\n",
    "    return int(arms_sum) +int(arr[n-1]) ** int(p)\n",
    "num=153\n",
    "list_num=list(str(num))\n",
    "arm_check=armstrong(list_num,len(list_num))\n",
    "if num==arm_check:\n",
    "    print(\"True\")\n",
    "else:\n",
    "    print(\"Flase\")\n"
   ]
  }
 ],
 "metadata": {
  "kernelspec": {
   "display_name": "Python 3 (ipykernel)",
   "language": "python",
   "name": "python3"
  },
  "language_info": {
   "codemirror_mode": {
    "name": "ipython",
    "version": 3
   },
   "file_extension": ".py",
   "mimetype": "text/x-python",
   "name": "python",
   "nbconvert_exporter": "python",
   "pygments_lexer": "ipython3",
   "version": "3.11.7"
  }
 },
 "nbformat": 4,
 "nbformat_minor": 5
}
