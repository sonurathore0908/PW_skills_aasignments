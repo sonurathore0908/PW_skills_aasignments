{
 "cells": [
  {
   "cell_type": "markdown",
   "id": "b26d2b8a-781d-46cb-afa9-e02ca153cce3",
   "metadata": {},
   "source": [
    "TOPIC: Python Basics Variable\r",
    "1. Declare two variables, `x` and `y`, and assign them integer values.\r\n",
    "Swap the values of these variables without using any temporary\r\n",
    "variab lExplanationon:-\n",
    "1:S stored values in a and b as variable.\n",
    "2:A after thewsqipt both values each othernow , the value  a is 3 and the valuse or b is 2f\n",
    "3:- Then check to output.e."
   ]
  },
  {
   "cell_type": "code",
   "execution_count": 39,
   "id": "d04e34ee-54b5-4348-870c-d974272c4f98",
   "metadata": {},
   "outputs": [
    {
     "name": "stdout",
     "output_type": "stream",
     "text": [
      "2\n",
      "3\n",
      "3\n",
      "2\n"
     ]
    }
   ],
   "source": [
    "a=2\n",
    "b=3\n",
    "print(a)\n",
    "print(b)\n",
    "a,b=b,a\n",
    "print(a)\n",
    "print(b) "
   ]
  },
  {
   "cell_type": "markdown",
   "id": "bd3db1db-d844-4bf2-abcf-34421463e41f",
   "metadata": {},
   "source": [
    "2. Create a program that calculates the area of a rectangle. Take the\n",
    "length and width as inputs from the user and store them in variables.\n",
    "Calculate and display the area.\n",
    "\n",
    "Explanation:-\n",
    "1:- First we give the input from user side and store these in lenght and weight variable.\n",
    "2:- After impliments the formula of area.\n",
    "3:- Show the output.\n"
   ]
  },
  {
   "cell_type": "code",
   "execution_count": 1,
   "id": "24ce771f-13f0-4eaa-b1fc-bc6139d9655e",
   "metadata": {},
   "outputs": [
    {
     "name": "stdin",
     "output_type": "stream",
     "text": [
      "Please enter lenght:-  12\n",
      "Please enter weight:-  12\n"
     ]
    },
    {
     "name": "stdout",
     "output_type": "stream",
     "text": [
      "The area of rectangle:- 144\n"
     ]
    }
   ],
   "source": [
    "lenght=int(input(\"Please enter lenght:- \"))\n",
    "weidgt=int(input(\"Please enter weight:- \"))\n",
    "area=lenght*weidgt\n",
    "print(\"The area of rectangle:-\",area)"
   ]
  },
  {
   "cell_type": "markdown",
   "id": "d02c7425-271f-4e24-a7cf-655eafc3f8d9",
   "metadata": {},
   "source": [
    "3. Write a Python program that converts temperature from Celsius to\n",
    "Fahrenheit. Take the temperature in Celsius as input, store it in a\n",
    "variable, convert it to Fahrenheit, and display the result.\n",
    "\n",
    "Explanation:-1:- Store the value in \"celcius\".\n",
    "2:- Put the formula of the convert celcius to Fahrenheit and store calculation in \"f\".\n",
    "3:- Print the value of f.\n",
    "\n"
   ]
  },
  {
   "cell_type": "code",
   "execution_count": 2,
   "id": "1d637222-0d76-492a-adf2-a589859eea7d",
   "metadata": {},
   "outputs": [
    {
     "name": "stdout",
     "output_type": "stream",
     "text": [
      "59.0\n"
     ]
    }
   ],
   "source": [
    "celcius=15\n",
    "f=(celcius*9/5)+32\n",
    "print(f)"
   ]
  },
  {
   "cell_type": "markdown",
   "id": "36b53109-125f-40b2-a858-329f0d7fa0f7",
   "metadata": {},
   "source": [
    "TOPIC: String Based Questions:-"
   ]
  },
  {
   "cell_type": "markdown",
   "id": "94b6f8b1-5a6c-4c40-9421-e2d68a06ee13",
   "metadata": {},
   "source": [
    "1. Write a Python program that takes a string as input and prints the\n",
    "length of the string.\n",
    "\n",
    "Explanation:- 1:- First it will ask input and store input in \"a\".\n",
    "2:- Find the lenght with the help of len() function.\n",
    "3:- Then print the output.\n"
   ]
  },
  {
   "cell_type": "code",
   "execution_count": 5,
   "id": "294846ff-027a-4e13-bcdd-685ee19adffb",
   "metadata": {},
   "outputs": [
    {
     "name": "stdin",
     "output_type": "stream",
     "text": [
      "please enter your string:- 12372398\n"
     ]
    },
    {
     "name": "stdout",
     "output_type": "stream",
     "text": [
      "lenght of string:- 8\n"
     ]
    }
   ],
   "source": [
    "a=str(input(\"please enter your string:-\"))\n",
    "print(\"lenght of string:-\",len(a))"
   ]
  },
  {
   "cell_type": "markdown",
   "id": "82b62c9c-52e0-4789-84cb-f256c10b15fb",
   "metadata": {},
   "source": [
    "2. Create a program that takes a sentence from the user and counts the\n",
    "number of vowels (a, e, i, o, u) in the string.\n",
    "\n",
    "Explanation 1:- Ask the sentence.\n",
    "2:- Convert all alphabets in lower case of sentances.\n",
    "3:- Count the vowels one by one with the help of count() function and sum the all vowels values and store in \"vowels_count\".\n",
    "4:- print the \"vowels_count\"."
   ]
  },
  {
   "cell_type": "code",
   "execution_count": 19,
   "id": "19278c4b-cc5d-4c62-96ae-010090db0987",
   "metadata": {},
   "outputs": [
    {
     "name": "stdin",
     "output_type": "stream",
     "text": [
      "please enter your sentences:- 4. Write a program that takes a string as input and checks if it is a palindrome (reads the same forwards and backwards).\n"
     ]
    },
    {
     "name": "stdout",
     "output_type": "stream",
     "text": [
      "33\n"
     ]
    }
   ],
   "source": [
    "a=str(input(\"please enter your sentences:-\"))\n",
    "vowels_count=a.lower().count('a')+a.lower().count('e')+a.lower().count('i')+a.lower().count('o')+a.lower().count('u')\n",
    "print(vowels_count)"
   ]
  },
  {
   "cell_type": "markdown",
   "id": "d4815f17-9902-4a5b-aebc-038bab71f8b4",
   "metadata": {},
   "source": [
    "3. Given a string, reverse the order of characters using string slicing and\n",
    "print the reversed string.\n",
    "Explanation 1:-Ask the string value as a input, if value is not string then get the error and store the value in \"s\".\n",
    "2:-Slice the value with use of slice method and store value in \"slic\" variable.\n",
    "3:-Print the \"slic\"."
   ]
  },
  {
   "cell_type": "code",
   "execution_count": 21,
   "id": "cd4ce015-1ac4-4f14-9355-acd6fc3a1eb9",
   "metadata": {},
   "outputs": [
    {
     "name": "stdin",
     "output_type": "stream",
     "text": [
      "Please enter string:- sanjeev kumar\n"
     ]
    },
    {
     "name": "stdout",
     "output_type": "stream",
     "text": [
      "ramuk veejnas\n"
     ]
    }
   ],
   "source": [
    "s=str(input(\"Please enter string:-\"))\n",
    "slic=s[-1::-1]\n",
    "print(slic)"
   ]
  },
  {
   "cell_type": "markdown",
   "id": "848b1062-8ada-4dbc-a8ff-fac87f0eafdc",
   "metadata": {},
   "source": [
    "4. Write a program that takes a string as input and checks if it is a\n",
    "palindrome (reads the same forwards and backwards).\n",
    "Explanation 1:- "
   ]
  },
  {
   "cell_type": "code",
   "execution_count": 6,
   "id": "6cdaa4f3-8a91-40c4-be77-9420cbbcc926",
   "metadata": {},
   "outputs": [
    {
     "name": "stdin",
     "output_type": "stream",
     "text": [
      "Please enter string:- sonu\n"
     ]
    },
    {
     "name": "stdout",
     "output_type": "stream",
     "text": [
      "this is your value(forward):-  sonu\n",
      "This is after palidrome(backward):-  unos\n"
     ]
    }
   ],
   "source": [
    "#Ask for input as string.\n",
    "s=str(input(\"Please enter only palidrome string:-\"))\n",
    "#Remove all spaces.\n",
    "s = s.replace(\" \", \"\").lower()\n",
    "print(\"this is your value(forward):- \",s)\n",
    "#use slicing  method for backward.\n",
    "p = s[::-1]\n",
    "print(\"This is after palidrome(backward):- \",p)"
   ]
  },
  {
   "cell_type": "markdown",
   "id": "4cd58976-4fc4-4a42-8596-e69be3e2d9cd",
   "metadata": {},
   "source": [
    "5. Create a program that takes a string as input and removes all the\n",
    "spaces from it. Print the modified string without spaces.\n"
   ]
  },
  {
   "cell_type": "code",
   "execution_count": 8,
   "id": "6c2cac91-2e11-4f33-8785-8a53ce83bbed",
   "metadata": {},
   "outputs": [
    {
     "ename": "KeyboardInterrupt",
     "evalue": "Interrupted by user",
     "output_type": "error",
     "traceback": [
      "\u001b[1;31m---------------------------------------------------------------------------\u001b[0m",
      "\u001b[1;31mKeyboardInterrupt\u001b[0m                         Traceback (most recent call last)",
      "Cell \u001b[1;32mIn[8], line 2\u001b[0m\n\u001b[0;32m      1\u001b[0m \u001b[38;5;66;03m#asking the string values.\u001b[39;00m\n\u001b[1;32m----> 2\u001b[0m s\u001b[38;5;241m=\u001b[39m\u001b[38;5;28mstr\u001b[39m(\u001b[38;5;28minput\u001b[39m(\u001b[38;5;124m\"\u001b[39m\u001b[38;5;124mPlease enter your string value:-\u001b[39m\u001b[38;5;124m\"\u001b[39m))\n\u001b[0;32m      3\u001b[0m \u001b[38;5;66;03m#Here remove all spaces.\u001b[39;00m\n\u001b[0;32m      4\u001b[0m p\u001b[38;5;241m=\u001b[39ms\u001b[38;5;241m.\u001b[39mreplace(\u001b[38;5;124m\"\u001b[39m\u001b[38;5;124m \u001b[39m\u001b[38;5;124m\"\u001b[39m,\u001b[38;5;124m\"\u001b[39m\u001b[38;5;124m\"\u001b[39m)\n",
      "File \u001b[1;32m~\\anaconda3\\Lib\\site-packages\\ipykernel\\kernelbase.py:1262\u001b[0m, in \u001b[0;36mKernel.raw_input\u001b[1;34m(self, prompt)\u001b[0m\n\u001b[0;32m   1260\u001b[0m     msg \u001b[38;5;241m=\u001b[39m \u001b[38;5;124m\"\u001b[39m\u001b[38;5;124mraw_input was called, but this frontend does not support input requests.\u001b[39m\u001b[38;5;124m\"\u001b[39m\n\u001b[0;32m   1261\u001b[0m     \u001b[38;5;28;01mraise\u001b[39;00m StdinNotImplementedError(msg)\n\u001b[1;32m-> 1262\u001b[0m \u001b[38;5;28;01mreturn\u001b[39;00m \u001b[38;5;28mself\u001b[39m\u001b[38;5;241m.\u001b[39m_input_request(\n\u001b[0;32m   1263\u001b[0m     \u001b[38;5;28mstr\u001b[39m(prompt),\n\u001b[0;32m   1264\u001b[0m     \u001b[38;5;28mself\u001b[39m\u001b[38;5;241m.\u001b[39m_parent_ident[\u001b[38;5;124m\"\u001b[39m\u001b[38;5;124mshell\u001b[39m\u001b[38;5;124m\"\u001b[39m],\n\u001b[0;32m   1265\u001b[0m     \u001b[38;5;28mself\u001b[39m\u001b[38;5;241m.\u001b[39mget_parent(\u001b[38;5;124m\"\u001b[39m\u001b[38;5;124mshell\u001b[39m\u001b[38;5;124m\"\u001b[39m),\n\u001b[0;32m   1266\u001b[0m     password\u001b[38;5;241m=\u001b[39m\u001b[38;5;28;01mFalse\u001b[39;00m,\n\u001b[0;32m   1267\u001b[0m )\n",
      "File \u001b[1;32m~\\anaconda3\\Lib\\site-packages\\ipykernel\\kernelbase.py:1305\u001b[0m, in \u001b[0;36mKernel._input_request\u001b[1;34m(self, prompt, ident, parent, password)\u001b[0m\n\u001b[0;32m   1302\u001b[0m \u001b[38;5;28;01mexcept\u001b[39;00m \u001b[38;5;167;01mKeyboardInterrupt\u001b[39;00m:\n\u001b[0;32m   1303\u001b[0m     \u001b[38;5;66;03m# re-raise KeyboardInterrupt, to truncate traceback\u001b[39;00m\n\u001b[0;32m   1304\u001b[0m     msg \u001b[38;5;241m=\u001b[39m \u001b[38;5;124m\"\u001b[39m\u001b[38;5;124mInterrupted by user\u001b[39m\u001b[38;5;124m\"\u001b[39m\n\u001b[1;32m-> 1305\u001b[0m     \u001b[38;5;28;01mraise\u001b[39;00m \u001b[38;5;167;01mKeyboardInterrupt\u001b[39;00m(msg) \u001b[38;5;28;01mfrom\u001b[39;00m \u001b[38;5;28;01mNone\u001b[39;00m\n\u001b[0;32m   1306\u001b[0m \u001b[38;5;28;01mexcept\u001b[39;00m \u001b[38;5;167;01mException\u001b[39;00m:\n\u001b[0;32m   1307\u001b[0m     \u001b[38;5;28mself\u001b[39m\u001b[38;5;241m.\u001b[39mlog\u001b[38;5;241m.\u001b[39mwarning(\u001b[38;5;124m\"\u001b[39m\u001b[38;5;124mInvalid Message:\u001b[39m\u001b[38;5;124m\"\u001b[39m, exc_info\u001b[38;5;241m=\u001b[39m\u001b[38;5;28;01mTrue\u001b[39;00m)\n",
      "\u001b[1;31mKeyboardInterrupt\u001b[0m: Interrupted by user"
     ]
    }
   ],
   "source": [
    "#asking the string values.\n",
    "s=str(input(\"Please enter your string value:-\"))\n",
    "#Here remove all spaces.\n",
    "p=s.replace(\" \",\"\")\n",
    "#print modified value.\n",
    "print(p)"
   ]
  }
 ],
 "metadata": {
  "kernelspec": {
   "display_name": "Python 3 (ipykernel)",
   "language": "python",
   "name": "python3"
  },
  "language_info": {
   "codemirror_mode": {
    "name": "ipython",
    "version": 3
   },
   "file_extension": ".py",
   "mimetype": "text/x-python",
   "name": "python",
   "nbconvert_exporter": "python",
   "pygments_lexer": "ipython3",
   "version": "3.11.7"
  }
 },
 "nbformat": 4,
 "nbformat_minor": 5
}
