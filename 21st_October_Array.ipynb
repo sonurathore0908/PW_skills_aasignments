{
 "cells": [
  {
   "cell_type": "markdown",
   "id": "db648771-8fc1-4baf-a000-fd7cf6c94a33",
   "metadata": {},
   "source": [
    "ARRAY"
   ]
  },
  {
   "cell_type": "markdown",
   "id": "8f3c28b3-2532-4450-b51a-830259a5812c",
   "metadata": {},
   "source": [
    "1. Given an array, check if it contains any duplicates or not.\n",
    "arr = [1, 2, 4, 2, 5, 9]\n",
    "Output = True"
   ]
  },
  {
   "cell_type": "code",
   "execution_count": 104,
   "id": "82e781e7-a563-4a6b-a038-0516559c6a82",
   "metadata": {},
   "outputs": [
    {
     "name": "stdout",
     "output_type": "stream",
     "text": [
      "True\n"
     ]
    }
   ],
   "source": [
    "#given the array.\n",
    "arr = [1, 4, 4,2, 5, 9]\n",
    "dup_arr=[]\n",
    "#create a loop for running every values of list and asign the value as i.\n",
    "for i in arr:\n",
    "    #checking the the value of i is in dup_arr if it is in then print True and break the condition.\n",
    "    if i in dup_arr:\n",
    "        print(\"True\")\n",
    "        break\n",
    "    else:\n",
    "        #append the values in dul_arr.\n",
    "        dup_arr.append(i)"
   ]
  },
  {
   "cell_type": "markdown",
   "id": "121cdb01-9a88-4eb4-a590-6c4e7ae0da59",
   "metadata": {},
   "source": [
    "2. Given an array and an integer k, rotate the array to the right by k steps.\n",
    "arr = [1, 2, 3, 4, 5, 6, 7] k = 3\n",
    "Output = [5, 6, 7, 1, 2, 3, 4]"
   ]
  },
  {
   "cell_type": "code",
   "execution_count": 108,
   "id": "0b15f2f1-1eb6-4f72-a2ce-670aaccd882e",
   "metadata": {},
   "outputs": [
    {
     "name": "stdout",
     "output_type": "stream",
     "text": [
      "[5, 6, 7, 1, 2, 3, 4]\n"
     ]
    }
   ],
   "source": [
    "#given the array\n",
    "arry = [1, 2, 3, 4, 5, 6, 7]\n",
    "#create blank list.\n",
    "dup_list = []\n",
    "#find the lenght of list.\n",
    "length_of_arry = len(arry)\n",
    "k=3\n",
    "#run the loop and give the range, range is start from -k value and end on 0 and step is +1.\n",
    "for i in range(-k,0,+1):\n",
    "    #append the value.\n",
    "    dup_list.append(arry[i])\n",
    "#running the second loop for remove the value from arry.\n",
    "for i in range(p,0,+1):\n",
    "    arry.pop(i)\n",
    "#concate the two list\n",
    "print(dup_list+arry)"
   ]
  },
  {
   "cell_type": "markdown",
   "id": "7333b4a3-3bc4-4296-b267-c66d9bcf0102",
   "metadata": {},
   "source": [
    "3. Reverse the given array in-place, means without using any extra data structure.\n",
    "arr = [2, 4, 5, 7, 9, 12]\n",
    "Output = [12, 9, 7, 5, 4, 2]"
   ]
  },
  {
   "cell_type": "code",
   "execution_count": 65,
   "id": "d5b80fe8-8954-4e0a-ab08-1f50885471ec",
   "metadata": {},
   "outputs": [
    {
     "name": "stdout",
     "output_type": "stream",
     "text": [
      "[12, 9, 7, 5, 4, 2]\n"
     ]
    }
   ],
   "source": [
    "#gven the arr.\n",
    "arr = [2, 4, 5, 7, 9, 12]\n",
    "#create new list.\n",
    "array_lst=[]\n",
    "#created a loop which is start from last value of list.\n",
    "for i in range(-1,-len(arr)-1,-1):\n",
    "    #append the values in new list.\n",
    "    array_lst.append(arr[i])\n",
    "print(array_lst)"
   ]
  },
  {
   "cell_type": "markdown",
   "id": "927c7ff7-4ce8-4449-8bbe-abdbfb6470d1",
   "metadata": {},
   "source": [
    "4. Given an array of integers, find the maximum element in an array\n",
    "arr = [10, 5, 20, 8, 15]\n",
    "Output = 20"
   ]
  },
  {
   "cell_type": "code",
   "execution_count": 100,
   "id": "24371554-41df-4aa9-b1b2-aa30be830adf",
   "metadata": {},
   "outputs": [
    {
     "name": "stdout",
     "output_type": "stream",
     "text": [
      "20\n"
     ]
    }
   ],
   "source": [
    "#given the arr.\n",
    "arr = [10, 5, 20, 8, 15]\n",
    "j=0\n",
    "#created for loop \n",
    "for i in range(1,len(arr)):\n",
    "    #checking the condition.\n",
    "    if arr[j]>arr[i]:\n",
    "        pass\n",
    "    else:\n",
    "        #if condition false apply this.\n",
    "        arr[j]=arr[i]\n",
    "    i+=1\n",
    "print(arr[j])"
   ]
  },
  {
   "cell_type": "markdown",
   "id": "69c851d2-d642-4d4d-99fa-7a4415a1022d",
   "metadata": {},
   "source": [
    "5. Given a sorted array, remove the duplicate element without using any extra data structure.\n",
    "arr = [1, 1, 2, 2, 2, 3, 3, 4, 4, 4, 5, 5]\n",
    "Output = [1, 2, 3, 4, 5]"
   ]
  },
  {
   "cell_type": "code",
   "execution_count": 103,
   "id": "e8abcc32-56be-4a04-87bb-a0efd1cd08d2",
   "metadata": {},
   "outputs": [
    {
     "name": "stdout",
     "output_type": "stream",
     "text": [
      "[1, 2, 3, 4, 5]\n"
     ]
    }
   ],
   "source": [
    "#given \n",
    "arr = [1, 1, 2, 2, 2, 3, 3, 4, 4, 4, 5, 5]\n",
    "#new list\n",
    "dup_arr=[]\n",
    "for i in arr:\n",
    "    #check the value in dup_arr\n",
    "    if i in dup_arr:\n",
    "        #if condition true pass for new iteration.\n",
    "        pass\n",
    "    else:\n",
    "        #if the condition false append the value in new list.\n",
    "        dup_arr.append(i)\n",
    "print(dup_arr)"
   ]
  }
 ],
 "metadata": {
  "kernelspec": {
   "display_name": "Python 3 (ipykernel)",
   "language": "python",
   "name": "python3"
  },
  "language_info": {
   "codemirror_mode": {
    "name": "ipython",
    "version": 3
   },
   "file_extension": ".py",
   "mimetype": "text/x-python",
   "name": "python",
   "nbconvert_exporter": "python",
   "pygments_lexer": "ipython3",
   "version": "3.11.7"
  }
 },
 "nbformat": 4,
 "nbformat_minor": 5
}
